{
 "cells": [
  {
   "cell_type": "code",
   "execution_count": 1,
   "metadata": {},
   "outputs": [],
   "source": [
    "import pandas as pd"
   ]
  },
  {
   "cell_type": "code",
   "execution_count": null,
   "metadata": {},
   "outputs": [],
   "source": [
    "tickets_df: pd.DataFrame = pd.DataFrame(\n",
    "    columns=(\n",
    "        \"event_id\",\n",
    "        \"event_date\",\n",
    "        \"event_type\",\n",
    "        \"event_multiday\",\n",
    "        \"event_class\",\n",
    "        \"venue_type\",\n",
    "        \"venue_cap\",\n",
    "        \"venue_lat\",\n",
    "        \"venue_lon\",\n",
    "        \"promoter_tier\",\n",
    "        \"days_until_event\",\n",
    "        \"ticket_sell_date\",\n",
    "        \"ticket_sell_price\",\n",
    "    )\n",
    ")\n",
    "\n",
    "df = tickets_df.groupby([\"event_id\", \"ticket_sale_date\"]).agg({\n",
    "    'ticket_sell_date': 'size',\n",
    "    'event_typeA': 'first',\n",
    "    'event_multiday': 'first',\n",
    "    'event_class': 'first',\n",
    "    'venue_type': 'first',\n",
    "    'venue_cap': 'first',\n",
    "    'venue_lat': 'first',\n",
    "    'venue_lon': 'first',\n",
    "    'promoter_tier': 'first',\n",
    "    'days_until_event': 'first'\n",
    "}).reset_index()\n",
    "\n",
    "df.rename(\n",
    "    columns={'ticket_sell_date': 'date', 'ticket_sell_date': 'sales'},\n",
    "    inplace=True\n",
    ")"
   ]
  },
  {
   "cell_type": "code",
   "execution_count": null,
   "metadata": {},
   "outputs": [],
   "source": [
    "from sklearn.model_selection import train_test_split\n",
    "from sklearn.preprocessing import StandardScaler, OneHotEncoder\n",
    "from sklearn.compose import ColumnTransformer\n",
    "import keras as kr"
   ]
  },
  {
   "cell_type": "code",
   "execution_count": null,
   "metadata": {},
   "outputs": [],
   "source": [
    "X = df.drop(columns=['sales', 'event_id', 'date'])\n",
    "Y = df['sales']\n",
    "\n",
    "X_train, X_test, y_train, y_test = train_test_split(\n",
    "    X, Y, test_size=0.2, random_state=42\n",
    ")\n",
    "\n",
    "categorical_features = [\n",
    "    'event_type', 'event_multiday', 'event_class', 'venue_type'\n",
    "]\n",
    "numeric_features = [\n",
    "    'venue_cap', 'venue_lat', 'venue_lon', 'promoter_tier', 'days_until_event'\n",
    "]\n",
    "\n",
    "preprocessor = ColumnTransformer(\n",
    "    transformers=[\n",
    "        ('num', StandardScaler(), numeric_features),\n",
    "        ('cat', OneHotEncoder(), categorical_features)\n",
    "    ]\n",
    ")\n",
    "\n",
    "X_train = preprocessor.fit_transform(X_train)\n",
    "X_test = preprocessor.transform(X_test)"
   ]
  },
  {
   "cell_type": "code",
   "execution_count": null,
   "metadata": {},
   "outputs": [],
   "source": [
    "model: kr.models.Sequential = kr.models.Sequential([\n",
    "    kr.layers.Input(shape=(X_train.shape[1],)),\n",
    "    kr.layers.Dense(128, activation='relu', input_shape=(X_train.shape[1],)),\n",
    "    kr.layers.Dense(64, activation='relu'),\n",
    "    kr.layers.Dense(32, activation='relu'),\n",
    "    kr.layers.Dense(1)\n",
    "])\n",
    "\n",
    "model.compile(optimizer='adam', loss='mean_squared_error')\n",
    "\n",
    "model.summary()"
   ]
  },
  {
   "cell_type": "code",
   "execution_count": null,
   "metadata": {},
   "outputs": [],
   "source": [
    "history = model.fit(\n",
    "    X_train, y_train,\n",
    "    epochs=50, validation_split=0.2, batch_size=32,\n",
    "    verbose=0\n",
    ")\n",
    "\n",
    "loss, accuracy = model.evaluate(X_test, y_test, verbose=1)"
   ]
  },
  {
   "cell_type": "code",
   "execution_count": null,
   "metadata": {},
   "outputs": [],
   "source": [
    "predictions = model.predict(X_test)\n",
    "\n",
    "for i in range(10):\n",
    "    print(f'Predicted: {predictions[i][0]}, Actual: {y_test.iloc[i]}')"
   ]
  }
 ],
 "metadata": {
  "kernelspec": {
   "display_name": "env",
   "language": "python",
   "name": "python3"
  },
  "language_info": {
   "codemirror_mode": {
    "name": "ipython",
    "version": 3
   },
   "file_extension": ".py",
   "mimetype": "text/x-python",
   "name": "python",
   "nbconvert_exporter": "python",
   "pygments_lexer": "ipython3",
   "version": "3.12.3"
  }
 },
 "nbformat": 4,
 "nbformat_minor": 2
}
