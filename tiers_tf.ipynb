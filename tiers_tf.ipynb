{
 "cells": [
  {
   "cell_type": "code",
   "execution_count": null,
   "metadata": {},
   "outputs": [],
   "source": [
    "import pandas as pd\n",
    "from sklearn.preprocessing import StandardScaler\n",
    "import keras as kr"
   ]
  },
  {
   "cell_type": "code",
   "execution_count": null,
   "metadata": {},
   "outputs": [],
   "source": [
    "# DF de entrenamiento, con todas las variables y la columna tier completa\n",
    "df_train: pd.DataFrame = pd.DataFrame(columns=(\"data\", \"tier\"))\n",
    "df_train.loc[0] = [50000, 1]\n",
    "df_train.loc[1] = [49000, 2]\n",
    "df_train.loc[2] = [40000, 2]\n",
    "df_train.loc[3] = [39000, 3]\n",
    "df_train.loc[4] = [30000, 3]\n",
    "df_train.loc[5] = [21000, 3]\n",
    "df_train.loc[6] = [20000, 4]\n",
    "df_train.loc[7] = [11000, 4]\n",
    "df_train.loc[8] = [10000, 5]\n",
    "\n",
    "\n",
    "# DF de test, con todas las variables y la columna tier completa\n",
    "df_test: pd.DataFrame = pd.DataFrame(columns=(\"data\", \"tier\"))\n",
    "df_test.loc[0] = [80000, 1]\n",
    "df_test.loc[1] = [37000, 3]\n",
    "df_test.loc[2] = [32000, 3]\n",
    "df_test.loc[3] = [18000, 4]\n",
    "df_test.loc[4] = [500, 5]\n",
    "df_test.loc[5] = [200, 5]\n",
    "df_test.loc[6] = [45000, 2]"
   ]
  },
  {
   "cell_type": "markdown",
   "metadata": {},
   "source": [
    "## Preparación de datos"
   ]
  },
  {
   "cell_type": "code",
   "execution_count": null,
   "metadata": {},
   "outputs": [],
   "source": [
    "# Separar características y etiquetas\n",
    "\n",
    "X_train: pd.DataFrame = df_train.drop('tier', axis=1)\n",
    "y_train: pd.Series = df_train['tier']\n",
    "\n",
    "X_test: pd.DataFrame = df_test.drop('tier', axis=1)\n",
    "y_test: pd.Series = df_test['tier']\n",
    "\n",
    "# Normalizar los datos\n",
    "scaler: StandardScaler = StandardScaler()\n",
    "X_train: pd.DataFrame = scaler.fit_transform(X_train)\n",
    "X_test: pd.DataFrame = scaler.transform(X_test)\n",
    "\n",
    "# Convertir etiquetas a categorías\n",
    "y_train = kr.utils.to_categorical(y_train - 1, num_classes=5)\n",
    "y_test = kr.utils.to_categorical(y_test - 1, num_classes=5)"
   ]
  },
  {
   "cell_type": "markdown",
   "metadata": {},
   "source": [
    "## Definición del modelo"
   ]
  },
  {
   "cell_type": "code",
   "execution_count": null,
   "metadata": {},
   "outputs": [],
   "source": [
    "# Definir el modelo\n",
    "model: kr.models.Sequential = kr.models.Sequential([\n",
    "    kr.layers.Input(shape=(X_train.shape[1],)),\n",
    "    kr.layers.Dense(64, activation='relu'),\n",
    "    kr.layers.Dense(32, activation='relu'),\n",
    "    kr.layers.Dense(5, activation='softmax')\n",
    "])\n",
    "\n",
    "# Compilar el modelo\n",
    "model.compile(\n",
    "    optimizer='adam', loss='categorical_crossentropy', metrics=['accuracy']\n",
    ")"
   ]
  },
  {
   "cell_type": "markdown",
   "metadata": {},
   "source": [
    "## Entrenamiento y evaluación del modelo"
   ]
  },
  {
   "cell_type": "code",
   "execution_count": null,
   "metadata": {},
   "outputs": [],
   "source": [
    "# Aquí te he hecho un entrenamiento con unos parámetros a ojo, pero es solo \n",
    "# una prueba.\n",
    "\n",
    "# Lo suyo sería que entrenaras con distintos epochs, validation_splits y \n",
    "# batch_size para encontrar el \"punto dulce\" de precisión del modelo.\n",
    "\n",
    "# Entrenar el modelo\n",
    "history = model.fit(\n",
    "    X_train, y_train, epochs=100, validation_split=0.2, batch_size=1\n",
    ")\n",
    "\n",
    "# Evaluar el modelo\n",
    "loss, accuracy = model.evaluate(X_test, y_test)\n",
    "print(f'Loss: {loss}, Accuracy: {accuracy}')"
   ]
  },
  {
   "cell_type": "markdown",
   "metadata": {},
   "source": [
    "## Predicción de tiers"
   ]
  },
  {
   "cell_type": "code",
   "execution_count": null,
   "metadata": {},
   "outputs": [],
   "source": [
    "# DF con datos pero sin valor de tiers\n",
    "df_score: pd.DataFrame = pd.DataFrame(columns=(\"data\",))\n",
    "\n",
    "df_score.loc[0] = [100000]\n",
    "df_score.loc[1] = [45500]\n",
    "df_score.loc[2] = [27900]\n",
    "df_score.loc[3] = [12000]\n",
    "df_score.loc[4] = [150]"
   ]
  },
  {
   "cell_type": "code",
   "execution_count": null,
   "metadata": {},
   "outputs": [],
   "source": [
    "# Normalizar los datos de df_score\n",
    "X_score = df_score.values\n",
    "X_score = scaler.transform(X_score)\n",
    "\n",
    "# Predecir los tiers\n",
    "predictions = model.predict(X_score)\n",
    "predicted_tiers = predictions.argmax(axis=1) + 1\n",
    "\n",
    "# Añadir las predicciones a df_score\n",
    "df_score['predicted_tier'] = predicted_tiers\n"
   ]
  },
  {
   "cell_type": "code",
   "execution_count": null,
   "metadata": {},
   "outputs": [],
   "source": [
    "df_score"
   ]
  }
 ],
 "metadata": {
  "kernelspec": {
   "display_name": "env",
   "language": "python",
   "name": "python3"
  },
  "language_info": {
   "codemirror_mode": {
    "name": "ipython",
    "version": 3
   },
   "file_extension": ".py",
   "mimetype": "text/x-python",
   "name": "python",
   "nbconvert_exporter": "python",
   "pygments_lexer": "ipython3",
   "version": "3.12.4"
  }
 },
 "nbformat": 4,
 "nbformat_minor": 2
}
