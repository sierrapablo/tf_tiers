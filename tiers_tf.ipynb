{
 "cells": [
  {
   "cell_type": "code",
   "execution_count": null,
   "metadata": {},
   "outputs": [],
   "source": [
    "import pandas as pd\n",
    "from sklearn.preprocessing import StandardScaler\n",
    "import keras as kr"
   ]
  },
  {
   "cell_type": "code",
   "execution_count": 3,
   "metadata": {},
   "outputs": [],
   "source": [
    "# DF de entrenamiento, con todas las variables y la columna tier completa\n",
    "df_train: pd.DataFrame = pd.DataFrame(\n",
    "    columns=(\"value\", \"typeA\", \"typeB\", \"classA\", \"classB\", \"tier\")\n",
    ")\n",
    "df_train.loc[0] = [50000, 1, 0, 0, 1, 1]\n",
    "df_train.loc[1] = [49000, 1, 0, 0, 1, 2]\n",
    "df_train.loc[2] = [40000, 1, 0, 1, 0, 2]\n",
    "df_train.loc[3] = [39000, 0, 1, 0, 1, 3]\n",
    "df_train.loc[4] = [30000, 1, 0, 1, 0, 3]\n",
    "df_train.loc[5] = [21000, 1, 0, 0, 1, 3]\n",
    "df_train.loc[6] = [20000, 0, 1, 1, 0, 4]\n",
    "df_train.loc[7] = [11000, 0, 1, 0, 1, 4]\n",
    "df_train.loc[8] = [10000, 1, 0, 1, 0, 5]\n",
    "df_train.loc[9] = [1000, 1, 0, 1, 0, 5]\n",
    "\n",
    "\n",
    "# DF de test, con todas las variables y la columna tier completa\n",
    "df_test: pd.DataFrame = pd.DataFrame(\n",
    "    columns=(\"value\", \"typeA\", \"typeB\", \"classA\", \"classB\", \"tier\")\n",
    ")\n",
    "df_test.loc[0] = [80000, 1, 0, 0, 1, 1]\n",
    "df_test.loc[1] = [37000, 1, 0, 0, 1, 3]\n",
    "df_test.loc[2] = [32000, 1, 0, 0, 1, 3]\n",
    "df_test.loc[3] = [18000, 1, 0, 0, 1, 4]\n",
    "df_test.loc[4] = [1000, 1, 0, 0, 1, 5]\n",
    "df_test.loc[5] = [200, 1, 0, 0, 1, 5]\n",
    "df_test.loc[6] = [45000, 1, 0, 0, 1, 2]"
   ]
  },
  {
   "cell_type": "markdown",
   "metadata": {},
   "source": [
    "## Preparación de datos"
   ]
  },
  {
   "cell_type": "code",
   "execution_count": 4,
   "metadata": {},
   "outputs": [],
   "source": [
    "# Separar características y etiquetas\n",
    "\n",
    "X_train: pd.DataFrame = df_train.drop('tier', axis=1)\n",
    "y_train: pd.Series = df_train['tier']\n",
    "\n",
    "X_test: pd.DataFrame = df_test.drop('tier', axis=1)\n",
    "y_test: pd.Series = df_test['tier']\n",
    "\n",
    "# Normalizar los datos\n",
    "scaler: StandardScaler = StandardScaler()\n",
    "X_train: pd.DataFrame = scaler.fit_transform(X_train)\n",
    "X_test: pd.DataFrame = scaler.transform(X_test)\n",
    "\n",
    "# Convertir etiquetas a categorías\n",
    "y_train = kr.utils.to_categorical(y_train - 1, num_classes=5)\n",
    "y_test = kr.utils.to_categorical(y_test - 1, num_classes=5)"
   ]
  },
  {
   "cell_type": "markdown",
   "metadata": {},
   "source": [
    "## Definición del modelo"
   ]
  },
  {
   "cell_type": "code",
   "execution_count": 5,
   "metadata": {},
   "outputs": [],
   "source": [
    "# Definir el modelo\n",
    "model: kr.models.Sequential = kr.models.Sequential([\n",
    "    kr.layers.Input(shape=(X_train.shape[1],)),\n",
    "    kr.layers.Dense(128, activation='relu'),\n",
    "    kr.layers.Dense(64, activation='relu'),\n",
    "    kr.layers.Dense(32, activation='relu'),\n",
    "    kr.layers.Dense(5, activation='softmax')\n",
    "])\n",
    "\n",
    "# Compilar el modelo\n",
    "model.compile(\n",
    "    optimizer='adam', loss='categorical_crossentropy', metrics=['accuracy']\n",
    ")"
   ]
  },
  {
   "cell_type": "markdown",
   "metadata": {},
   "source": [
    "## Entrenamiento y evaluación del modelo"
   ]
  },
  {
   "cell_type": "code",
   "execution_count": 6,
   "metadata": {},
   "outputs": [
    {
     "name": "stdout",
     "output_type": "stream",
     "text": [
      "\u001b[1m1/1\u001b[0m \u001b[32m━━━━━━━━━━━━━━━━━━━━\u001b[0m\u001b[37m\u001b[0m \u001b[1m0s\u001b[0m 146ms/step - accuracy: 0.5714 - loss: 48.6358\n"
     ]
    }
   ],
   "source": [
    "# Aquí te he hecho un entrenamiento con unos parámetros a ojo, pero es solo \n",
    "# una prueba.\n",
    "\n",
    "# Lo suyo sería que entrenaras con distintos epochs, validation_splits y \n",
    "# batch_size para encontrar el \"punto dulce\" de precisión del modelo.\n",
    "\n",
    "# Entrenar el modelo\n",
    "history = model.fit(\n",
    "    x=X_train, y=y_train,\n",
    "    epochs=1000, validation_split=0.2, batch_size=1,\n",
    "    verbose=0\n",
    ")\n",
    "\n",
    "# Evaluar el modelo\n",
    "loss, accuracy = model.evaluate(x=X_test, y=y_test, verbose=1)"
   ]
  },
  {
   "cell_type": "markdown",
   "metadata": {},
   "source": [
    "## Predicción de tiers"
   ]
  },
  {
   "cell_type": "code",
   "execution_count": 7,
   "metadata": {},
   "outputs": [],
   "source": [
    "# DF con datos pero sin valor de tiers\n",
    "df_score: pd.DataFrame = pd.DataFrame(\n",
    "    columns=(\"value\", \"typeA\", \"typeB\", \"classA\", \"classB\",)\n",
    ")\n",
    "\n",
    "df_score.loc[0] = [800000, 1, 0, 0, 1]\n",
    "df_score.loc[1] = [45500, 1, 0, 1, 0]\n",
    "df_score.loc[2] = [27900, 0, 1, 0, 1]\n",
    "df_score.loc[3] = [12000, 0, 1, 1, 0]\n",
    "df_score.loc[4] = [440, 1, 0, 0, 1]"
   ]
  },
  {
   "cell_type": "code",
   "execution_count": null,
   "metadata": {},
   "outputs": [],
   "source": [
    "# Normalizar los datos de df_score\n",
    "X_score = df_score.values\n",
    "X_score = scaler.transform(X=X_score)\n",
    "\n",
    "# Predecir los tiers\n",
    "predictions = model.predict(x=X_score)\n",
    "predicted_tiers = predictions.argmax(axis=1) + 1\n",
    "\n",
    "# Añadir las predicciones a df_score\n",
    "df_score['predicted_tier'] = predicted_tiers\n"
   ]
  },
  {
   "cell_type": "code",
   "execution_count": 9,
   "metadata": {},
   "outputs": [
    {
     "data": {
      "text/html": [
       "<div>\n",
       "<style scoped>\n",
       "    .dataframe tbody tr th:only-of-type {\n",
       "        vertical-align: middle;\n",
       "    }\n",
       "\n",
       "    .dataframe tbody tr th {\n",
       "        vertical-align: top;\n",
       "    }\n",
       "\n",
       "    .dataframe thead th {\n",
       "        text-align: right;\n",
       "    }\n",
       "</style>\n",
       "<table border=\"1\" class=\"dataframe\">\n",
       "  <thead>\n",
       "    <tr style=\"text-align: right;\">\n",
       "      <th></th>\n",
       "      <th>value</th>\n",
       "      <th>typeA</th>\n",
       "      <th>typeB</th>\n",
       "      <th>classA</th>\n",
       "      <th>classB</th>\n",
       "      <th>predicted_tier</th>\n",
       "    </tr>\n",
       "  </thead>\n",
       "  <tbody>\n",
       "    <tr>\n",
       "      <th>0</th>\n",
       "      <td>800000</td>\n",
       "      <td>1</td>\n",
       "      <td>0</td>\n",
       "      <td>0</td>\n",
       "      <td>1</td>\n",
       "      <td>1</td>\n",
       "    </tr>\n",
       "    <tr>\n",
       "      <th>1</th>\n",
       "      <td>45500</td>\n",
       "      <td>1</td>\n",
       "      <td>0</td>\n",
       "      <td>1</td>\n",
       "      <td>0</td>\n",
       "      <td>2</td>\n",
       "    </tr>\n",
       "    <tr>\n",
       "      <th>2</th>\n",
       "      <td>27900</td>\n",
       "      <td>0</td>\n",
       "      <td>1</td>\n",
       "      <td>0</td>\n",
       "      <td>1</td>\n",
       "      <td>3</td>\n",
       "    </tr>\n",
       "    <tr>\n",
       "      <th>3</th>\n",
       "      <td>12000</td>\n",
       "      <td>0</td>\n",
       "      <td>1</td>\n",
       "      <td>1</td>\n",
       "      <td>0</td>\n",
       "      <td>4</td>\n",
       "    </tr>\n",
       "    <tr>\n",
       "      <th>4</th>\n",
       "      <td>440</td>\n",
       "      <td>1</td>\n",
       "      <td>0</td>\n",
       "      <td>0</td>\n",
       "      <td>1</td>\n",
       "      <td>3</td>\n",
       "    </tr>\n",
       "  </tbody>\n",
       "</table>\n",
       "</div>"
      ],
      "text/plain": [
       "    value  typeA  typeB  classA  classB  predicted_tier\n",
       "0  800000      1      0       0       1               1\n",
       "1   45500      1      0       1       0               2\n",
       "2   27900      0      1       0       1               3\n",
       "3   12000      0      1       1       0               4\n",
       "4     440      1      0       0       1               3"
      ]
     },
     "execution_count": 9,
     "metadata": {},
     "output_type": "execute_result"
    }
   ],
   "source": [
    "df_score"
   ]
  }
 ],
 "metadata": {
  "kernelspec": {
   "display_name": "env",
   "language": "python",
   "name": "python3"
  },
  "language_info": {
   "codemirror_mode": {
    "name": "ipython",
    "version": 3
   },
   "file_extension": ".py",
   "mimetype": "text/x-python",
   "name": "python",
   "nbconvert_exporter": "python",
   "pygments_lexer": "ipython3",
   "version": "3.12.3"
  }
 },
 "nbformat": 4,
 "nbformat_minor": 2
}
